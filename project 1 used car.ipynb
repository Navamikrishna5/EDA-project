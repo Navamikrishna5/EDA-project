{
 "cells": [
  {
   "cell_type": "markdown",
   "metadata": {},
   "source": [
    "# USED CARS DATASET"
   ]
  },
  {
   "cell_type": "markdown",
   "metadata": {},
   "source": [
    "\n",
    "# The dataset is a comprehensive representation of 1,000 used car listings, designed to capture essential details about pre-owned vehicles commonly found in the automotive market. It includes 15 attributes that provide insights into each car's characteristics. Key columns include the car's **Make** (brand) and **Model**, production **Year**, and **Mileage**, which reflects the total distance the vehicle has traveled. The dataset also includes the **Price**, ranging from $2,000 to $50,000, and details about the **Fuel Type** (e.g., petrol, diesel, hybrid, or electric) and **Transmission** type (manual or automatic). Information about the car's **Owner Type** is provided, indicating whether it is a first, second, or third-owner vehicle.\n",
    "\n",
    "# Additional specifications such as the car's **Color**, **Engine Size** (in liters), **Horsepower**, and **Seating Capacity** offer further granularity. The dataset also includes fuel efficiency metrics: **City MPG** and **Highway MPG**, which indicate the car's performance in urban and highway settings. Finally, the **Location** column specifies where each car is listed for sale, covering various major U.S. cities. This dataset is ideal for automotive market analysis, predictive modeling, and insights into customer preferences and pricing trends."
   ]
  },
  {
   "cell_type": "code",
   "execution_count": null,
   "metadata": {},
   "outputs": [],
   "source": [
    "import pandas as pd\n",
    "mport numpy as NotImplementedimport seaborn as sns\n",
    "import matplotlib.pyplot as plt\n",
    "df=pd.read_csv('C:\\Users\\Lenovo\\Downloads\\used_car_dataset.csv')"
   ]
  }
 ],
 "metadata": {
  "language_info": {
   "name": "python"
  }
 },
 "nbformat": 4,
 "nbformat_minor": 2
}
